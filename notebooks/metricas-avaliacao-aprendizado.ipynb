{
 "cells": [
  {
   "cell_type": "code",
   "execution_count": 8,
   "metadata": {},
   "outputs": [
    {
     "name": "stdout",
     "output_type": "stream",
     "text": [
      "Note: you may need to restart the kernel to use updated packages.\n"
     ]
    }
   ],
   "source": [
    "%pip install -q tabulate"
   ]
  },
  {
   "cell_type": "markdown",
   "metadata": {},
   "source": [
    "# Matriz de Confusão"
   ]
  },
  {
   "cell_type": "code",
   "execution_count": 9,
   "metadata": {},
   "outputs": [
    {
     "data": {
      "image/png": "[encoded data removed]",
      "text/plain": [
       "<IPython.core.display.Image object>"
      ]
     },
     "execution_count": 9,
     "metadata": {},
     "output_type": "execute_result"
    }
   ],
   "source": [
    "from IPython.display import Image\n",
    "\n",
    "# Display the image\n",
    "Image(filename=\"../images/species-prediction-matrix.png\")"
   ]
  },
  {
   "cell_type": "markdown",
   "metadata": {},
   "source": [
    "# Valores da Matriz de Confusão"
   ]
  },
  {
   "cell_type": "code",
   "execution_count": 10,
   "metadata": {},
   "outputs": [],
   "source": [
    "vp = 24\n",
    "fp = 2\n",
    "vn = 18\n",
    "fn = 6"
   ]
  },
  {
   "cell_type": "markdown",
   "metadata": {},
   "source": [
    "# Cálculo das Métricas"
   ]
  },
  {
   "cell_type": "code",
   "execution_count": 11,
   "metadata": {},
   "outputs": [],
   "source": [
    "sensibilidade = vp / (vp + fn)\n",
    "especificidade = vn / (vn + fp)\n",
    "acuraria = (vp + vn) / (vp + vn + fp + fn)\n",
    "precisao = vp / (vp + fp)\n",
    "fscore = 2 * (precisao * sensibilidade) / (precisao + sensibilidade)"
   ]
  },
  {
   "cell_type": "markdown",
   "metadata": {},
   "source": [
    "# Exibe as Métricas"
   ]
  },
  {
   "cell_type": "code",
   "execution_count": 19,
   "metadata": {},
   "outputs": [
    {
     "name": "stdout",
     "output_type": "stream",
     "text": [
      "+----------------+-------+\n",
      "|    Métrica     | Valor |\n",
      "+----------------+-------+\n",
      "| Sensibilidade  |  0.8  |\n",
      "| Especificidade |  0.9  |\n",
      "|    Acuraria    | 0.84  |\n",
      "|    Precisao    | 0.92  |\n",
      "|    F-Score     | 0.86  |\n",
      "+----------------+-------+\n"
     ]
    }
   ],
   "source": [
    "from tabulate import tabulate\n",
    "\n",
    "metrics = [\n",
    "    ['Sensibilidade', sensibilidade],\n",
    "    ['Especificidade', especificidade],\n",
    "    ['Acuraria', acuraria],\n",
    "    ['Precisao', round(precisao, 2)],\n",
    "    ['F-Score', round(fscore, 2)]\n",
    "]\n",
    "\n",
    "print(tabulate(metrics, headers=['Métrica', 'Valor'], tablefmt='pretty'))"
   ]
  },
  {
   "cell_type": "code",
   "execution_count": null,
   "metadata": {},
   "outputs": [],
   "source": []
  }
 ],
 "metadata": {
  "kernelspec": {
   "display_name": "dio-bairesdev",
   "language": "python",
   "name": "python3"
  },
  "language_info": {
   "codemirror_mode": {
    "name": "ipython",
    "version": 3
   },
   "file_extension": ".py",
   "mimetype": "text/x-python",
   "name": "python",
   "nbconvert_exporter": "python",
   "pygments_lexer": "ipython3",
   "version": "3.12.8"
  }
 },
 "nbformat": 4,
 "nbformat_minor": 2
}
