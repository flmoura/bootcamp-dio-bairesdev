{
  "nbformat": 4,
  "nbformat_minor": 0,
  "metadata": {
    "colab": {
      "provenance": []
    },
    "kernelspec": {
      "name": "python3",
      "display_name": "Python 3"
    },
    "language_info": {
      "name": "python"
    }
  },
  "cells": [
    {
      "cell_type": "code",
      "source": [
        "!apt-get update && apt-get install -y ffmpeg libasound2-dev portaudio19-dev libportaudio2 libportaudiocpp0\n",
        "!pip install -q \\\n",
        "  gTTS \\\n",
        "  SpeechRecognition \\\n",
        "  playsound \\\n",
        "  PyAudio \\\n",
        "  pyjokes"
      ],
      "metadata": {
        "id": "i_Z372kNFOvO"
      },
      "execution_count": null,
      "outputs": []
    },
    {
      "cell_type": "code",
      "source": [
        "import io\n",
        "import os\n",
        "import playsound\n",
        "import pyaudio\n",
        "import pyjokes\n",
        "import speech_recognition as sr\n",
        "import subprocess\n",
        "import webbrowser\n",
        "\n",
        "from base64 import b64decode\n",
        "from datetime import datetime\n",
        "from google.colab import output\n",
        "from gtts import gTTS\n",
        "from IPython.display import HTML, Audio, Javascript\n",
        "from pygame import mixer"
      ],
      "metadata": {
        "id": "NBN7VLk3o_sM"
      },
      "execution_count": null,
      "outputs": []
    },
    {
      "cell_type": "code",
      "source": [
        "def open_url(url):\n",
        "  display(Javascript(f'window.open(\"{url}\");'))"
      ],
      "metadata": {
        "id": "Y_EPfECaudbO"
      },
      "execution_count": null,
      "outputs": []
    },
    {
      "cell_type": "code",
      "source": [
        "def text_to_speech(text, language=\"en\", filename=\"speech.mp3\", autoplay=True):\n",
        "  tts = gTTS(text=text, lang=language, slow=False)\n",
        "  tts.save(filename)\n",
        "  return Audio(filename, autoplay=autoplay)"
      ],
      "metadata": {
        "id": "KgY2LMuq0u_T"
      },
      "execution_count": null,
      "outputs": []
    },
    {
      "cell_type": "code",
      "source": [
        "def respond(text):\n",
        "    print(\"Text from get audio \" + text)\n",
        "    if 'youtube' in text:\n",
        "        open_url(\"https://www.youtube.com\")\n",
        "    elif 'search' in text:\n",
        "        open_url(\"https://www.google.com\")\n",
        "    elif 'piada' in text:\n",
        "        text_to_speech(pyjokes.get_joke())\n",
        "    elif 'horas' in text:\n",
        "        strTime = datetime.today().strftime(\"%H:%M %p\")\n",
        "        print(strTime)\n",
        "        text_to_speech(strTime)\n",
        "    elif 'sair' in text:\n",
        "        text_to_speech(\"Adeus, até a próxima.\")\n",
        "        exit()\n"
      ],
      "metadata": {
        "id": "yBoRqreuuaFy"
      },
      "execution_count": null,
      "outputs": []
    },
    {
      "cell_type": "code",
      "source": [],
      "metadata": {
        "id": "Q4uNzcP4IVE2"
      },
      "execution_count": null,
      "outputs": []
    },
    {
      "cell_type": "code",
      "source": [
        "def get_text_from_audio(recorded_file, language=\"pt-BR\"):\n",
        "\n",
        "    try:\n",
        "      r = sr.Recognizer()\n",
        "      with sr.AudioFile(recorded_file) as source:\n",
        "          audio = r.record(source)\n",
        "      text = r.recognize_google(audio, language=language)  # Use Google Web Speech API\n",
        "      print(\"Texto reconhecido:\")\n",
        "      print(text)\n",
        "      return text\n",
        "\n",
        "    except ImportError:\n",
        "      print(\"Biblioteca SpeechRecognition não encontrada. Por favor, instale-a usando: !pip install SpeechRecognition\")\n",
        "    except Exception as e:\n",
        "      print(f\"Ocorreu um erro durante o reconhecimento de fala: {e}\")\n"
      ],
      "metadata": {
        "id": "te55f5AjFZ1a"
      },
      "execution_count": null,
      "outputs": []
    },
    {
      "cell_type": "code",
      "source": [
        "RECORD = \"\"\"\n",
        "const sleep  = time => new Promise(resolve => setTimeout(resolve, time))\n",
        "const b2text = blob => new Promise(resolve => {\n",
        "  const reader = new FileReader()\n",
        "  reader.onloadend = e => resolve(e.srcElement.result)\n",
        "  reader.readAsDataURL(blob)\n",
        "})\n",
        "var record = time => new Promise(async resolve => {  // This is the record function\n",
        "  stream = await navigator.mediaDevices.getUserMedia({ audio: true })\n",
        "  recorder = new MediaRecorder(stream, { mimeType: 'audio/webm; codecs=opus' })\n",
        "  chunks = []\n",
        "  recorder.ondataavailable = e => chunks.push(e.data)\n",
        "  recorder.start()\n",
        "  await sleep(time)\n",
        "  recorder.onstop = async ()=>{\n",
        "    blob = new Blob(chunks)\n",
        "    text = await b2text(blob)\n",
        "    resolve(text)\n",
        "  }\n",
        "  recorder.stop()\n",
        "})\n",
        "\"\"\"\n",
        "\n",
        "def record_audio(filename, seconds=5):\n",
        "    print(f\"Recording audio for {seconds} seconds...\")\n",
        "\n",
        "    display(Javascript(RECORD))\n",
        "\n",
        "    s = output.eval_js('record(%d)' % (seconds * 1000))\n",
        "    b = b64decode(s.split(',')[1])\n",
        "\n",
        "    webm_filename = \"temp_audio.webm\"\n",
        "    with open(webm_filename, \"wb\") as f:\n",
        "        f.write(b)\n",
        "\n",
        "    wav_filename = filename\n",
        "    try:\n",
        "        subprocess.run(['ffmpeg', '-i', webm_filename, wav_filename], capture_output=True, check=True)\n",
        "        print(f\"Audio saved to {wav_filename}\")\n",
        "    except subprocess.CalledProcessError as e:\n",
        "        print(f\"Error converting audio: {e}\")\n",
        "        return None\n",
        "    finally:\n",
        "      os.remove(webm_filename)\n",
        "\n",
        "    return wav_filename"
      ],
      "metadata": {
        "id": "pFj5QFu0FSr5"
      },
      "execution_count": null,
      "outputs": []
    },
    {
      "cell_type": "code",
      "source": [
        "filename = \"recorded_audio.wav\"\n",
        "seconds_to_record = 4\n",
        "recorded_file = record_audio(filename, seconds_to_record)\n",
        "\n",
        "if recorded_file:\n",
        "    display(Audio(recorded_file))\n",
        "    from google.colab import files\n",
        "    files.download(recorded_file)\n",
        "\n",
        "    print(\"Obtendo texto...\")\n",
        "\n",
        "    text = get_text_from_audio(recorded_file)\n",
        "\n",
        "    respond(text)\n",
        ""
      ],
      "metadata": {
        "id": "6I8fAmrrpHQD"
      },
      "execution_count": null,
      "outputs": []
    },
    {
      "cell_type": "code",
      "source": [],
      "metadata": {
        "id": "Voea7z6_JT7y"
      },
      "execution_count": null,
      "outputs": []
    }
  ]
}