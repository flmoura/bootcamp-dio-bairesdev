{
  "nbformat": 4,
  "nbformat_minor": 0,
  "metadata": {
    "colab": {
      "provenance": []
    },
    "kernelspec": {
      "name": "python3",
      "display_name": "Python 3"
    },
    "language_info": {
      "name": "python"
    }
  },
  "cells": [
    {
      "cell_type": "code",
      "source": [
        "!pip install -q gTTS"
      ],
      "metadata": {
        "id": "2XjlKFtU8uV1"
      },
      "execution_count": null,
      "outputs": []
    },
    {
      "cell_type": "code",
      "source": [
        "from gtts import gTTS\n",
        "from IPython.display import Audio"
      ],
      "metadata": {
        "id": "B3hlpTtG81xQ"
      },
      "execution_count": null,
      "outputs": []
    },
    {
      "cell_type": "code",
      "source": [
        "def text_to_speech(text, language=\"en\", filename=\"speech.mp3\", autoplay=True):\n",
        "  tts = gTTS(text=text, lang=language, slow=False)\n",
        "  tts.save(filename)\n",
        "  return Audio(filename, autoplay=autoplay)"
      ],
      "metadata": {
        "id": "W4Fzrx3h85S4"
      },
      "execution_count": null,
      "outputs": []
    },
    {
      "cell_type": "code",
      "execution_count": null,
      "metadata": {
        "id": "5qKZ3_d18eN3"
      },
      "outputs": [],
      "source": [
        "# Exemplo de uso\n",
        "text_to_speech(\"Hello, this is a test of text-to-speech.\")\n"
      ]
    },
    {
      "cell_type": "code",
      "source": [
        "# Exemplo de uso\n",
        "text_to_speech(\"Je vais au supermarché.\", language=\"fr\")\n"
      ],
      "metadata": {
        "id": "pm7eLOis87tJ"
      },
      "execution_count": null,
      "outputs": []
    },
    {
      "cell_type": "code",
      "source": [
        "# Exemplo de uso\n",
        "text_to_speech(\"Eu vou ao supermercado.\", language=\"pt\")\n"
      ],
      "metadata": {
        "id": "FL1sh2M69qgh"
      },
      "execution_count": null,
      "outputs": []
    },
    {
      "cell_type": "code",
      "source": [],
      "metadata": {
        "id": "hnRlL_Mq9-so"
      },
      "execution_count": null,
      "outputs": []
    }
  ]
}